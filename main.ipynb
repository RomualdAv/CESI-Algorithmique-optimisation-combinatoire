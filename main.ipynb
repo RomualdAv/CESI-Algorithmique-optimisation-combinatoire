{
 "cells": [
  {
   "cell_type": "markdown",
   "id": "e53a534ad10ee395",
   "metadata": {},
   "source": [
    "<div style=\"text-align: center;\">\n",
    "    <h1>PROJET : Eco-Optimisation d'une chaine d'acheminement de marchandises</h1>\n",
    "</div>\n",
    "\n",
    "<h2>Algorithmique et optimisation combinatoire</h2>\n",
    "\n",
    "---\n",
    "\n",
    "<h2>Équipe</h2>\n",
    "\n",
    "---\n",
    "\n",
    "- **Aversenq Romuald**\n",
    "- **Fransolet Justin**\n",
    "- **Ngadjou Lesline**\n",
    "\n",
    "\n",
    "---\n",
    "\n",
    "<h2>Rappel du contexte</h2>\n",
    "\n",
    "---\n",
    "\n",
    "À la suite d'un appel d'offre lancé par l’ADEME *(Agence de l’Environnement et de la Maîtrise de l’Énergie)*, nous avons pour objectif de participer au développement de méthodes de transport plus économes et plus écologiques. Notre équipe se focalisera ainsi sur l'optimisation des tournées de livraison, part importante des émissions polluantes de la ville.\n",
    "\n",
    "Globalement, le problème consiste à calculer un itinéraire optimal reliant plusieurs villes tout en prenant en compte différents éléments comme la durée de trajet, le type de marchandise, etc. La solution recherchée doit s’appuyer sur des techniques de Recherche Opérationnelle et proposer un algorithme capable de gérer des instances de grande taille *(jusqu'à plusieurs milliers de villes)*. Le projet inclut également la possibilité d’ajouter des contraintes supplémentaires pour rendre une solution des plus optimales ; comme des fenêtres de temps, la gestion de plusieurs camions ou des variations de trafic."
   ]
  },
  {
   "cell_type": "markdown",
   "id": "cb86801966b6d3",
   "metadata": {},
   "source": [
    "---\n",
    "\n",
    "<h2>Cahier des charges</h2>\n",
    "\n",
    "---\n",
    "\n",
    "- k camions disponibles simultanément pour effectuer les livraisons. Le calcul de la tournée devra inclure l’affectation des objets (et donc des points de livraison) aux différents camions disponibles, et minimiser non plus le temps total, mais la date de retour du dernier camion à la base.\n",
    "    - Capacité des camions *(volume)* et encombrement des objets\n",
    "    - Certains objets ne peuvent être livrés que par certains camions.\n",
    "\n",
    "- La solution proposée devra gérer des instances de grande taille *(jusqu'à plusieurs milliers de villes).*\n",
    "\n",
    "- Les marchandises ne pourront pas être transportées par n’importe quel camion. Les objets seront de différents types, et chaque camion ne pourra transporter que certains types d’objets."
   ]
  },
  {
   "cell_type": "markdown",
   "id": "9724ccc45edc26f9",
   "metadata": {},
   "source": [
    "---\n",
    "\n",
    "<h2>Planification</h2>\n",
    "\n",
    "---\n",
    "\n",
    "Tout d'abord, l'organisation du Github est une étape essentielle dans la bonne réalisation du projet. Ainsi nous prendrons soin d'organiser les branches en fonction des fonctionalités à implementer.\n",
    "\n",
    "Ensuite, nous utiliserons deux outils pour gérer les tâches entre nous, un diagramme de Gantt et un tableau de répartition qui nous vient de la méthodologie SCRUM. Ces deux vues nous permettent d'avoir des perspectives differentes sur les tâches à faire, Gantt nous permet de visualiser le projet dans le temps en globalité, tandis que la tableau de répartition permet plus localement de repartir les tâches sur des périodes courtes.\n",
    "\n",
    "Tout est disponible ici sur notre projet partagé : https://docs.google.com/spreadsheets/d/1Dhj9WE8up2-2Jom8v5TNlueWG929-saf-i7Rz2a4psE/edit?usp=sharing"
   ]
  },
  {
   "cell_type": "markdown",
   "id": "ae19a38510568988",
   "metadata": {},
   "source": [
    "---\n",
    "\n",
    "<h2>Faisabilité</h2>\n",
    "\n",
    "---\n",
    "\n",
    "Nous souhaitons tout d'abord démontrer que le problème du voyageur de commerce est de classe NP-Complet, en effet le TSP est le problème qui se rapproche le plus de notre situation. Le Problème du Voyageur de Commerce *(ou TSP, pour Traveling Salesman Problem)* est un problème célèbre en théorie des graphes et en optimisation combinatoire.\n",
    "\n",
    "Pour rappel, l'objectif est de trouver le plus court chemin qui permet à un vendeur de visiter chaque ville exactement une fois et de revenir à son point de départ. Le TSP se rapporte à un problème de classe NP-Complet, ce qui signifie qu'il est à la fois difficile à résoudre (pas de solution efficace connue pour tous les cas), mais facile à vérifier (on peut vérifier en temps polynomial si une solution donnée est correcte).\n",
    "\n",
    "**Prouvons d'abord que le TSP appartient à la classe NP :**\n",
    "\n",
    "Un problème est dans la classe NP si, une fois qu'on nous donne une solution potentielle, on peut vérifier en temps polynomial si c'est une solution valide.\n",
    "\n",
    "Nous avons :\n",
    "- Liste de villes\n",
    "- Distances entre chaque paire de villes\n",
    "- Une solution proposée (un cycle passant par toutes les villes)\n",
    "\n",
    "Or, pour vérifier si la solution est correcte, il suffit de :\n",
    "- Vérifier que le cycle passe par chaque ville exactement une fois (c'est faisable en parcourant la liste des villes et en comptant les occurrences, ce qui prend un temps linéaire).\n",
    "- Calculer la longueur totale du circuit en additionnant les distances entre les villes successives (cela peut être fait en temps polynomial).\n",
    "- Comparer cette longueur totale à un seuil donné (le coût maximal autorisé).\n",
    "\n",
    "Ces étapes peuvent être effectuées en temps polynomial par rapport au nombre de villes, ce qui signifie que le problème est vérifiable rapidement. Ainsi, le TSP appartient à NP.\n",
    "\n",
    "\n",
    "**Démontrons l'appartenance à la classe NP-Complet :**\n",
    "\n",
    "Pour rappel, un problème est NP-Complet :\n",
    "- Si il appartient à NP\n",
    "- Tout problème NP peut se réduire en temps polynomial à ce problème.\n",
    "\n",
    "Cela signifie que si l'on trouve une solution efficace pour le TSP, on pourrait l'utiliser pour résoudre n'importe quel autre problème NP en temps polynomial.\n",
    "\n",
    "Pour prouver que le TSP est NP-Complet, il faut montrer qu'un autre problème NP-Complet bien connu puisse se réduire au TSP. La réduction consiste à transformer une instance de ce problème en une instance du TSP de manière à ce que les solutions se correspondent.\n",
    "Un des problèmes NP-Complet les plus utilisés pour faire cette démonstration est le Problème du Circuit Hamiltonien (HCP, pour Hamiltonian Cycle Problem). Le HCP consiste à déterminer s'il existe un cycle hamiltonien (un cycle qui visite chaque sommet exactement une fois) dans un graphe donné.\n",
    "\n",
    "Or mis le fait, qu'intuitivement, les deux problèmes sont proches, nous souhaitons faire une démonstration rigoureuse. Réduisons alors le HCP vers TSP.\n",
    "\n",
    "Soit un graphe $ G = (V, E) $ avec un ensemble de sommets $ V $ et d’arêtes $ E $. On cherche à savoir s'il existe un cycle hamiltonien dans ce graphe.\n",
    "\n",
    "Construisons une instance du TSP où :\n",
    "\n",
    "- $ v \\in V $ devient une ville dans l'instance du TSP.\n",
    "- Si deux sommets $ v_i $ et $ v_j $ sont connectés par une arête dans $ G $, la distance entre les villes correspondantes $ v_i $ et $ v_j $ est de $ 1 $.\n",
    "- Si les sommets ne sont pas connectés, la distance est fixée à une grande valeur $ M $ (une valeur suffisamment grande pour que ce chemin ne soit jamais choisi dans une solution optimale).\n",
    "\n",
    "On définit donc la matrice des distances $ D $ telle que :\n",
    "\n",
    "$\n",
    "D(v_i, v_j) =\n",
    "\\begin{cases}\n",
    "1 & \\text{si } (v_i, v_j) \\in E, \\\\\n",
    "M & \\text{sinon.}\n",
    "\\end{cases}\n",
    "$\n",
    "\n",
    "\n",
    "Ensuite, il s'agit de determiner un cycle de longueur $ |V| $ avec un coût total de $ |V| $ dans le TSP.\n",
    "\n",
    "Si un tel cycle existe, cela équivaut à trouver un cycle hamiltonien dans le graphe original $ G $. En effet, le cycle passe exactement par chaque sommet une seule fois, et comme la distance entre les sommets connectés est 1, le coût total sera de $ |V| $.\n",
    "\n",
    "Ainsi, si un cycle hamiltonien existe dans $ G $, il correspondra exactement à une solution du TSP avec un coût total de $ |V| $. Sinon, toute solution au TSP aurait un coût supérieur à $ |V| $, car elle utiliserait des distances de $ M $, qui sont très grandes.\n",
    "\n",
    "Puisque le problème du Circuit Hamiltonien est NP-Complet et que nous avons montré qu'il peut être transformé en une instance du TSP en temps polynomial, cela signifie que \\textbf{le TSP est au moins aussi difficile que le HCP} et donc que TSP appartient à la classe des problèmes NP-Complets.\n"
   ]
  },
  {
   "cell_type": "markdown",
   "id": "86633e558ca33897",
   "metadata": {},
   "source": [
    "\n",
    "<h2>Modélisation</h2>\n",
    "\n",
    "---\n",
    "\n",
    "<div style=\"text-align: center;\">\n",
    "<h3>Algorithme de génération pseudo aléatoire d'instance de problème</h3>\n",
    "<img src=\"images/lava_lamps.jpg\" alt=\"Lava Lamps\" width=\"400px\" height=\"300px\" style=\"border: 2px solid white; border-radius: 20px;\">\n",
    "</div>\n",
    "\n",
    "---\n",
    "\n",
    "Cet algorithme n'est pas régi par les règles de modélisation de recherche opérationnelle, car il ne représente pas de solution à une problématique de programmation linéaire. La modélisation suivra alors des règles classiques de modélisation d'algorithme.\n",
    "De plus, il n'est pas compris dans le contexte du projet, son développement servira principalement pour la démonstration.\n",
    "\n",
    "\n",
    "<h4>Objectif</h4>\n",
    "\n",
    "L'algorithme doit retourner différents couples (matrice, liste_colis) avec les matrices d'adjacence qui correspondent aux plans de villes et les objets colis (type, dimensions, destination valide) qui vont avec. Enfin, les données doivent être enregistrées dans des fichiers distincts.\n",
    "\n",
    "<h4>Données d'entrée</h4>\n",
    "\n",
    "- Nombre de villes\n",
    "- Nombre de routes\n",
    "- Nombre de camions\n",
    "- Ville de départ\n",
    "\n",
    "<h4>Données de sortie</h4>\n",
    "\n",
    "- Plan de la ville traduit en matrice d'adjacence\n",
    "- Liste des colis (type, dimensions, emplacement...)\n",
    "- Liste des camions (type, capacité...)\n",
    "\n",
    "<h4>Contraintes</h4>\n",
    "\n",
    "- Matrices valides (graphe connexe, graphe pondéré, nombre de nœuds supérieur à 3)\n",
    "- Poids des arrêts est choisi aléatoirement entre 1 minute et 3 heures (180 minutes) dans 70% des cas et entre 3 heures et 6 heures (360 minutes) dans 30% des cas.\n",
    "- Point de départ et emplacements des colis valides\n",
    "- Caractéristiques colis conformes\n",
    "\n",
    "<h4>Pseudo code</h4>\n",
    "\n",
    "1. Choix du nombre d'instances de problème à générer\n",
    "\n",
    "2. Générer matrices d'adjacences aléatoires de graphes connexes quelconques\n",
    "\n",
    "3. Pour chaque matrice, créer une quantité aléatoire de colis avec un type aléatoire et un emplacement aléatoire compris dans la matrice.\n",
    "\n",
    "4. Enregistrer les données dans un fichier CSV sous la forme suivante : \n",
    "\n",
    "   4.1. Matrice d'adjacence \n",
    "    \n",
    "   4.2. Liste d'objets Colis\n",
    "   \n",
    "   4.3. Point du départ"
   ]
  },
  {
   "metadata": {},
   "cell_type": "markdown",
   "source": [
    "---\n",
    "\n",
    "<div style=\"text-align: center;\">\n",
    "<h3>Algorithme de répartition des marchandises dans les camions</h3>\n",
    "<img src=\"images/load_truck.jpg\" alt=\"Load Truck\" width=\"400px\" height=\"300px\" style=\"border: 2px solid white; border-radius: 20px;\">\n",
    "</div>\n",
    "\n",
    "---\n",
    "\n",
    "Algorithme MCCVRPTWCC (Multi-Commodity Capacitated Vehicle Routing Problem with Time Windows and Compatibility Constraints)\n",
    "\n",
    "<h4>Variables de décision</h4>\n",
    "\n",
    "$ P_{C_tK_t} \\in [0,1] \\rightarrow $ variable binaire qui vaut 1 si le véhicule $K_t$ peut transporter le type de marchandise $C_t$, et 0 sinon.\n",
    "\n",
    "$ W_{ab} \\in [0,1] \\rightarrow $ variable binaire qui vaut 1 si le type de marchandise `a` peut être transporté avec le type de marchandises `b`, et 0 sinon.\n",
    "\n",
    "<h4>Variables Intermédiaire</h4>\n",
    "\n",
    "$ q_i^c \\rightarrow $ quantité de marchandise `c` à livrer au client `i`.\n",
    "\n",
    "$ T^{Start}_i \\rightarrow $ Date de début de la fenêtre.\n",
    "\n",
    "$ T^{End}_i \\rightarrow $ Date de fin de la fenêtre.\n",
    "\n",
    "$C^{destination, volume, type}_c \\rightarrow $ Représentation d'un colis.\n",
    "\n",
    "$K^{volume, type, fret, nombre\\,de\\,destination}_k \\rightarrow $ Représentation d'un camion.\n",
    "\n",
    "`i` : Destination (sommet du graphe)\n",
    "\n",
    "`a`, `b` $ \\in \\{Pas\\, spécifié, Alimentaire, Inflammable, Explosif, Toxic, Radioactif, Corrosif, Oxidant, Pressurisé, Fragile \\}$\n",
    "\n",
    "$C_k$ = $\\{i \\in C | y_{ik} = 1\\}$ : Ensembles des destinations\n",
    "\n",
    "${charge} = {nombre\\,de\\,colis}\\div{nombre\\,de\\,camions}$\n",
    "\n",
    "<h4>Contraintes</h4>\n",
    "\n",
    "**Minimisation des destinations**\n",
    "\n",
    "$\\sum_c C^{destination}_c \\geq \\frac{charge}{K^{nb\\,destination}_k}\\; \\forall k$\n",
    "\n",
    "**Respect des fenêtres de temps**\n",
    "\n",
    "$ T^{End}_{c-1} \\leq T^{End}_{c} \\leq T^{End}_{c+1}\\;\\forall i \\in C_k$\n",
    "\n",
    "**Un camion ne peut transporter que type de marchandise compatible**\n",
    "\n",
    "| Type         | Pas spécifié | Alimentaire | Inflammable | Explosif | Toxic | Radioactif | Corrosif | Oxidant | Pressurisé | Fragile |\n",
    "|--------------|--------------|-------------|-------------|----------|-------|------------|----------|---------|------------|---------|\n",
    "| Pas spécifié | 1            | 1           | 1           | 1        | 1     | 1          | 1        | 1       | 1          | 1       |\n",
    "| Alimentaire  | 1            | 1           | 0           | 0        | 0     | 0          | 0        | 0       | 0          | 1       |\n",
    "| Inflammable  | 1            | 0           | 1           | 0        | 0     | 0          | 0        | 0       | 0          | 0       |\n",
    "| Explosif     | 1            | 0           | 0           | 1        | 0     | 0          | 0        | 0       | 0          | 0       |\n",
    "| Toxic        | 1            | 0           | 0           | 0        | 1     | 1          | 1        | 1       | 1          | 0       |\n",
    "| Radioactif   | 1            | 0           | 0           | 0        | 1     | 1          | 0        | 0       | 0          | 0       |\n",
    "| Corrosif     | 1            | 0           | 0           | 0        | 1     | 0          | 1        | 1       | 0          | 0       |\n",
    "| Oxidant      | 1            | 0           | 0           | 0        | 1     | 0          | 1        | 1       | 0          | 0       |\n",
    "| Pressurisé   | 1            | 0           | 0           | 0        | 1     | 0          | 0        | 0       | 1          | 0       |\n",
    "| Fragile      | 1            | 1           | 0           | 0        | 0     | 0          | 0        | 0       | 0          | 1       |\n",
    "\n",
    "$\\prod_a \\prod_b W_{ab} = 1\\;\\forall a,b \\in K_m$\n",
    "\n",
    "**Réglementation des transports pour les différents types de marchandises (Type de camions)**\n",
    "\n",
    "| Type       | Pas spécifié | Alimentaire | Inflammable | Explosif | Toxic | Radioactif | Corrosif | Oxidant | Pressurisé | Fragile |\n",
    "|------------|--------------|-------------|-------------|----------|-------|------------|----------|---------|------------|---------|\n",
    "| Ouvert     | 1            | 0           | 1           | 1        | 0     | 0          | 0        | 0       | 1          | 1       |\n",
    "| Réfrigérer | 1            | 1           | 0           | 0        | 0     | 0          | 0        | 0       | 0          | 1       |\n",
    "| Étanche    | 1            | 0           | 1           | 1        | 1     | 0          | 1        | 1       | 0          | 1       |\n",
    "| Blindé     | 1            | 1           | 1           | 1        | 1     | 1          | 1        | 1       | 1          | 1       |\n",
    "\n",
    "$\\prod_c P_{C_tK_t} = 1\\;\\forall c \\in K_m$\n",
    "\n",
    "<h4>Fonction objectif</h4>\n",
    "\n",
    "**Maximisation du taux de remplissage des camions**\n",
    "\n",
    "$F = \\sum_i q_i^c\\:\\times y_{ik}\\;\\forall k, i \\in C_k$\n",
    "\n",
    "<h4>Pseudo code</h4>\n",
    "\n",
    "1. **Initialisation :**\n",
    "\n",
    "   1.1. Instancier les listes des objects\n",
    "\n",
    "2. **Vérifier la faisabilité des contraintes**\n",
    "\n",
    "3. **Trier les marchandises :**\n",
    "\n",
    "   3.1. Trier les marchandises par ordre de priorité (par exemple, fenêtres de temps les plus serrées d’abord).\n",
    "   \n",
    "   3.2. Trier les marchandises en fonction de la taille pour maximiser le taux de remplissage des camions.\n",
    "\n",
    "4. **Attribuer un camion à chaque cargaison :**\n",
    "\n",
    "   4.1. Pour chaque marchandise `m` dans `M` :\n",
    "   \n",
    "        4.1.1. Trouver un camion disponible `c` avec assez de capacité, compatible avec le type de marchandise, et avec des fenêtres de temps qui ne se chevauchent pas.\n",
    "\n",
    "        4.1.2. Assigner la marchandise `m` au camion `c`.\n",
    "\n",
    "5. **Retourner la liste des camions avec leurs cargaisons et tournées.**\n"
   ],
   "id": "e88555380c8e1a49"
  },
  {
   "metadata": {},
   "cell_type": "markdown",
   "source": [
    "---\n",
    "\n",
    "<div style=\"text-align: center;\">\n",
    "<h3>Algorithme de génération de l'itinéraire optimal</h3>\n",
    "<img src=\"images/map.jpg\" alt=\"itinéraire optimal\" width=\"400px\" height=\"300px\" style=\"border: 2px solid white; border-radius: 20px;\">\n",
    "</div>\n",
    "\n",
    "---\n",
    "<h4>Variable de décision</h4>\n",
    "\n",
    "Les variables de decision décrivent les choix que l’algorithme peut effectuer. Dans ce cas, il s’agit de variables représentant les trajets, les camions et les objets (box).\n",
    "\n",
    "- $X^k_{ij}$ : variable binaire qui prend la valeur 1 si le camion `k` emprunte l’arête (route) entre le point (`i`) et le point (`j`) et 0 sinon. Elle permet de modéliser les trajets possibles entre les différents points ; Grace a elle on peut savoir quelles routes sont empruntés par chacun des camions.\n",
    "Exemple : $ x^1_{23}$ =1, ie le camion 1 prend la route entre le point 2 et le point 3.\n",
    "\n",
    "- $y^i_k$ : Variable binaire qui prend la valeur 1 si le camion `k` livre un objet au point `i` et 0 sinon. Celle-ci indique ou les camions peuvent effectuer les livraisons ou les collectes. De même, elle permet de s’assurer que chaque point de livraison est visité au moins une fois par un camion.\n",
    "Exemple : $y^2_5$ =1, ie le camion 2 effectue une livraison au point 5.\n",
    "\n",
    "<h4>Contraintes</h4>\n",
    "\t\n",
    "Une contrainte est une limitation, une restriction qui impose certaine condition sur les données ou des processus dans le cadre du développement d’un système.\n",
    "\n",
    "1. **Contrainte sur le parcours**\n",
    "\n",
    "$ \\sum_jX^k_{ij} = y^k_j \\; \\forall _{i,k}$\n",
    "\n",
    "Interprétation : cette contrainte assure que si un camion `k` visite un point `i` (donc $y^k_j$ =1), alors il doit entrer dans ce point en venant d’un autre point `j` (ce qui correspond à $x^k_{ij} = 1$). Elle garantit que si un point de livraison est visité, cela doit se traduire par un mouvement de camion. Cela empêche que les solutions ou le camion livrerait un point sans y être passé par une route.\n",
    "\n",
    "\n",
    "2. **Contrainte sur le retour à la base**\n",
    "\n",
    "$X^k_{0j}=X^k_{j0}= 1 \\forall_i$\n",
    "\n",
    "Interprétation : chaque camion `k` doit partir de la base (notée 0) et y revenir à la fin de sa tournée. En d’autres termes, il y a toujours un trajet entre la base et le premier point de livraison, et le trajet de retour après la dernière livraison. Cette contrainte garantit que les camions commencent et finissent leurs parcours à un point central (dépôt ou base).\n",
    "\n",
    "<h4>Fonction objectif</h4>\n",
    "\n",
    "L’objectif principal est de minimiser le temps total de livraison, ce qui inclut les trajets des camions et le retour du dernier camion à la base. La fonction à minimiser est formulé comme suit :\n",
    "\n",
    "$ min\\sum_k\\sum_i\\sum_j X^k_{ij}t_{ij}+ \\sum_k max_i t^k_i $\n",
    "\n",
    "\n",
    "\n",
    "<h4>Pseudo code</h4>\n",
    "\n",
    "1. Initialisation :\n",
    "\n",
    "\t1.1. Définir les variables de décision : $X^k_{ij}, Y^k_i$.\n",
    "\t\n",
    "\t1.2. Initialiser les arêtes du réseau routier avec des distances et le temps tij initiaux.\n",
    "\t\n",
    "\t1.3. Intégrer les fenêtres de temps [$a_i, b_i$ ]pour chaque point de livraison\n",
    "\n",
    "2. Définir la fonction objectif : $ minF = \\sum_k \\sum_i \\sum_j X^k_{ij}t_{ij}+ \\sum_k max_i t^k_i $ \n",
    "\n",
    "    2.1. Fenêtre de temps : $a_i<=t_i<=b_i$\n",
    "   \n",
    "    2.2. Contraintes de capacité des camions $\\sum_i Q_i Y^k_i <= C^k$\n",
    "   \n",
    "    2.3. Retour à la base pour chaque camion\n",
    " \n",
    "3. Appliquer une approche par métaheuristique (ex : algorithme génétique ou recuit simulé) :\n",
    "\t\n",
    "\t3.1. Initialisation d’une population d’itinéraires valides\n",
    "\t\n",
    "\t3.2. Pour chaque génération :\n",
    "\n",
    "\t\t3.2.1. Sélection des meilleurs itinéraires selon la fonction objectif\n",
    "\t\t\n",
    "\t\t3.2.2. Appliquer des mutations (changer l’ordre des points de livraison)\n",
    "\t\t\n",
    "\t\t3.2.3. Réparer les solutions invalides ( contrainte de capacité, fenêtre de temps)\n",
    "\t\t\n",
    "\t\t3.2.4. Calcul de la nouvelle valeur de la fonction objectif\n",
    "\t\t\n",
    "\t\t3.2.5. Converge vers la solution optimale\n",
    "\n",
    "4. Retourner la meilleure solution ( ensemble des itinéraires pour chaque camion).\n"
   ],
   "id": "b6da91d280158098"
  },
  {
   "metadata": {},
   "cell_type": "markdown",
   "source": [
    "---\n",
    "\n",
    "<div style=\"text-align: center;\">\n",
    "<h3>Implémentation de plusieurs exemples</h3>\n",
    "<img src=\"images/work.jpg\" alt=\"Work\" width=\"400px\" height=\"300px\" style=\"border: 2px solid white; border-radius: 20px;\">\n",
    "</div>\n",
    "\n",
    "---\n",
    "\n",
    "<h4>Objets utilisés :</h4>"
   ],
   "id": "e402e11b175ffd4e"
  },
  {
   "metadata": {
    "ExecuteTime": {
     "end_time": "2024-11-13T07:57:32.884580Z",
     "start_time": "2024-11-13T07:57:32.855411Z"
    }
   },
   "cell_type": "code",
   "source": [
    "from src.infrastructure import InstanceLoader as InstLoader\n",
    "from src.domains import SortationAlgorithm as sortAlg"
   ],
   "id": "21f0d87bfbfd099e",
   "outputs": [],
   "execution_count": 1
  },
  {
   "metadata": {},
   "cell_type": "markdown",
   "source": "<h4>Exemple sur une instance de petite taille :</h4>",
   "id": "ebf61970fa153158"
  },
  {
   "metadata": {
    "ExecuteTime": {
     "end_time": "2024-11-13T07:57:32.905768Z",
     "start_time": "2024-11-13T07:57:32.898585Z"
    }
   },
   "cell_type": "code",
   "source": [
    "small_instance = InstLoader(\"src/infrastructure/instance\",\"small\")\n",
    "\n",
    "sortation = sortAlg(small_instance.get_boxes(), small_instance.get_trucks(), small_instance.get_graph())\n",
    "\n",
    "sortation.getTruckLoaded()"
   ],
   "id": "ad1b499e8fce0506",
   "outputs": [
    {
     "data": {
      "text/plain": [
       "[]"
      ]
     },
     "execution_count": 2,
     "metadata": {},
     "output_type": "execute_result"
    }
   ],
   "execution_count": 2
  },
  {
   "metadata": {},
   "cell_type": "markdown",
   "source": "<h4>Exemple sur une instance de grande taille :</h4>",
   "id": "695934e0bd6364f"
  },
  {
   "metadata": {
    "ExecuteTime": {
     "end_time": "2024-11-13T07:57:33.024371Z",
     "start_time": "2024-11-13T07:57:33.018965Z"
    }
   },
   "cell_type": "code",
   "source": [
    "large_instance = InstLoader(\"src/infrastructure/instance\", \"large\")\n",
    "\n",
    "sortation = sortAlg(large_instance.get_boxes(), large_instance.get_trucks(), large_instance.get_graph())\n",
    "\n",
    "sortation.getTruckLoaded()"
   ],
   "id": "f4458cd77870f305",
   "outputs": [
    {
     "data": {
      "text/plain": [
       "[]"
      ]
     },
     "execution_count": 3,
     "metadata": {},
     "output_type": "execute_result"
    }
   ],
   "execution_count": 3
  },
  {
   "metadata": {},
   "cell_type": "markdown",
   "source": "<h4>Exemple sur une instance avec un graphe orienté et asymmetric :</h4>",
   "id": "96104b295e78003f"
  },
  {
   "metadata": {
    "ExecuteTime": {
     "end_time": "2024-11-13T07:57:33.243502Z",
     "start_time": "2024-11-13T07:57:33.238780Z"
    }
   },
   "cell_type": "code",
   "source": [
    "asym_instance = InstLoader(\"src/infrastructure/instance\", \"asym\")\n",
    "\n",
    "sortation = sortAlg(asym_instance.get_boxes(), asym_instance.get_trucks(), asym_instance.get_graph())\n",
    "\n",
    "sortation.getTruckLoaded()"
   ],
   "id": "ba31559741c751ce",
   "outputs": [
    {
     "data": {
      "text/plain": [
       "[]"
      ]
     },
     "execution_count": 4,
     "metadata": {},
     "output_type": "execute_result"
    }
   ],
   "execution_count": 4
  },
  {
   "metadata": {},
   "cell_type": "markdown",
   "source": "<h4>Exemple sur une instance avec un graphe non-orienté donc symmetric :</h4>",
   "id": "24e27a4fc1eb702d"
  },
  {
   "metadata": {
    "ExecuteTime": {
     "end_time": "2024-11-13T07:57:33.271439Z",
     "start_time": "2024-11-13T07:57:33.265548Z"
    }
   },
   "cell_type": "code",
   "source": [
    "sym_instance = InstLoader(\"src/infrastructure/instance\", \"sym\")\n",
    "\n",
    "sortation = sortAlg(sym_instance.get_boxes(), sym_instance.get_trucks(), sym_instance.get_graph())\n",
    "\n",
    "sortation.getTruckLoaded()"
   ],
   "id": "5df2668226c38584",
   "outputs": [
    {
     "data": {
      "text/plain": [
       "[]"
      ]
     },
     "execution_count": 5,
     "metadata": {},
     "output_type": "execute_result"
    }
   ],
   "execution_count": 5
  },
  {
   "metadata": {},
   "cell_type": "markdown",
   "source": [
    "---\n",
    "\n",
    "<div style=\"text-align: center;\">\n",
    "<h3>Étude de la compléxité temporelle théorique et de la compléxité spaciale théorique</h3>\n",
    "<img src=\"images/complexe.jpg\" alt=\"Compléxité\" width=\"400px\" height=\"300px\" style=\"border: 2px solid white; border-radius: 20px;\">\n",
    "</div>\n",
    "\n",
    "---\n",
    "blabla"
   ],
   "id": "2c18e1f6585d213e"
  },
  {
   "metadata": {},
   "cell_type": "markdown",
   "source": [
    "---\n",
    "\n",
    "<div style=\"text-align: center;\">\n",
    "<h3>Étude statistique</h3>\n",
    "<img src=\"images/statistics.jpg\" alt=\"statistique\" width=\"400px\" height=\"300px\" style=\"border: 2px solid white; border-radius: 20px;\">\n",
    "</div>\n",
    "\n",
    "---\n",
    "blabla"
   ],
   "id": "d66f04fe1a7666b"
  },
  {
   "metadata": {
    "ExecuteTime": {
     "end_time": "2024-11-13T07:57:33.337765Z",
     "start_time": "2024-11-13T07:57:33.335256Z"
    }
   },
   "cell_type": "code",
   "source": "",
   "id": "b6a71fea8d2ae38e",
   "outputs": [],
   "execution_count": null
  }
 ],
 "metadata": {
  "kernelspec": {
   "display_name": "Python 3",
   "language": "python",
   "name": "python3"
  },
  "language_info": {
   "codemirror_mode": {
    "name": "ipython",
    "version": 3
   },
   "file_extension": ".py",
   "mimetype": "text/x-python",
   "name": "python",
   "nbconvert_exporter": "python",
   "pygments_lexer": "ipython3",
   "version": "3.12.5"
  }
 },
 "nbformat": 4,
 "nbformat_minor": 5
}
