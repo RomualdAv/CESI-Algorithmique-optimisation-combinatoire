{
 "cells": [
  {
   "cell_type": "markdown",
   "id": "fe01fb1a",
   "metadata": {},
   "source": [
    "<div style=\"text-align: center;\">\n",
    "    <h1>PROJET : Eco-Optimisation d'une chaine d'acheminement de marchandises</h1>\n",
    "</div>\n",
    "\n",
    "### _Algorithmique et optimisation combinatoire_\n",
    "\n",
    "---\n",
    "\n",
    "### **Équipe :**\n",
    "\n",
    "- **Aversenq Romuald**\n",
    "- **Fransolet Justin**\n",
    "- **Ngadjou Lesline**\n",
    "\n",
    "### **Rappel du contexte :**\n",
    "\n",
    "A la suite d'un appel d'offre lancé par l’ADEME *(Agence de l’Environnement et de la Maîtrise de l’Energie)*, nous avons pour objectif de participer au developpement de méthodes de transport plus économes et plus écologique. Notre équipe se focalisera ainsi sur l'optimisation des tournées de livraison, part importante des émissions polluantes de la ville.\n",
    "\n",
    "Globalement, le problème consiste à calculer un itinéraire optimal reliant plusieurs villes tout en prenant en compte differents éléments comme la durée de trajet, le type de marchandise etc... La solution recherchée doit s’appuyer sur des techniques de Recherche Opérationnelle et proposer un algorithme capable de gérer des instances de grande taille *(jusqu'à plusieurs milliers de villes)*. Le projet inclut également la possibilité d’ajouter des contraintes supplémentaires pour rendre une solution des plus optimales; comme des fenêtres de temps, la gestion de plusieurs camions ou des variations de trafic.\n",
    "\n",
    "### **Cahier des charges :**\n",
    "\n",
    "contraintes retenues\n",
    "\n",
    "\n",
    "---\n",
    "\n",
    "\n",
    "### **Planification :**\n",
    "\n",
    "\n",
    "### **Modélisation :**\n",
    "\n",
    "#### **Définition d'un problème NP-Complet :**\n",
    "#### **Suite :**"
   ]
  }
 ],
 "metadata": {
  "kernelspec": {
   "display_name": "Python 3",
   "language": "python",
   "name": "python3"
  },
  "language_info": {
   "codemirror_mode": {
    "name": "ipython",
    "version": 2
   },
   "file_extension": ".py",
   "mimetype": "text/x-python",
   "name": "python",
   "nbconvert_exporter": "python",
   "pygments_lexer": "ipython2",
   "version": "2.7.6"
  }
 },
 "nbformat": 4,
 "nbformat_minor": 5
}
